{
 "cells": [
  {
   "cell_type": "code",
   "execution_count": 11,
   "metadata": {
    "collapsed": true
   },
   "outputs": [],
   "source": [
    "import pandas as pd\n",
    "import numpy as np"
   ]
  },
  {
   "cell_type": "code",
   "execution_count": 12,
   "metadata": {
    "collapsed": true
   },
   "outputs": [],
   "source": [
    "df1 = pd.read_csv(\"data/imdb.csv\",encoding = 'utf-8')"
   ]
  },
  {
   "cell_type": "code",
   "execution_count": 13,
   "metadata": {},
   "outputs": [
    {
     "name": "stdout",
     "output_type": "stream",
     "text": [
      "<class 'pandas.core.frame.DataFrame'>\n",
      "RangeIndex: 250 entries, 0 to 249\n",
      "Data columns (total 15 columns):\n",
      " #   Column          Non-Null Count  Dtype  \n",
      "---  ------          --------------  -----  \n",
      " 0   country         250 non-null    object \n",
      " 1   country1        250 non-null    object \n",
      " 2   country2        79 non-null     object \n",
      " 3   country_others  18 non-null     object \n",
      " 4   director        250 non-null    object \n",
      " 5   director_cn1    0 non-null      float64\n",
      " 6   director_cn2    0 non-null      float64\n",
      " 7   director_en1    250 non-null    object \n",
      " 8   director_en2    24 non-null     object \n",
      " 9   info            250 non-null    object \n",
      " 10  movie_name      250 non-null    object \n",
      " 11  ranking         250 non-null    int64  \n",
      " 12  score           250 non-null    float64\n",
      " 13  tag             250 non-null    object \n",
      " 14  year            250 non-null    int64  \n",
      "dtypes: float64(3), int64(2), object(10)\n",
      "memory usage: 29.4+ KB\n"
     ]
    }
   ],
   "source": [
    "df1.info()"
   ]
  },
  {
   "cell_type": "code",
   "execution_count": 23,
   "metadata": {
    "collapsed": true
   },
   "outputs": [],
   "source": [
    "class_movie_us = ['Action','Adventure','Animation','Biography','Comedy','Crime','Documentary','Drama','Family'\n",
    "               ,'Fantasy','Film Noir','History','Horror','Music','Musical','Mystery','Romance','Sci-Fi','Short','Sport','Superhero','Thriller',\n",
    "                 'War','Western','Foreign film','tragedy']\n",
    "class_movie_cn = ['动作','冒险','动画','传记','喜剧','犯罪','纪录','剧情','家庭'\n",
    "               ,'奇幻','黑色','历史','恐怖','音乐','歌舞','悬疑','浪漫','科幻','短片','运动','超级英雄','惊悚',\n",
    "                 '战争','西部','外国','悲剧']\n",
    "country_movie_us = ['USA', 'New Zealand','Italy', 'Japan','India','West Germany', 'UK','France','Hong Kong','South Korea','Soviet Union', 'Australia',\n",
    "                 'Sweden','Germany', 'Spain','Ireland', 'Turkey','Argentina','Mexico','Iran', 'Canada','Denmark','Brazil','Lebanon']\n",
    "country_movie_cn = ['美国', '新西兰', '意大利', '日本', '印度', '西德','英国','法国', '香港', '南韩','前苏联','澳大利亚',\n",
    "                   '瑞典', '德国', '西班牙','爱尔兰','土耳其','阿根廷','墨西哥','伊朗','加拿大','丹麦','巴西', '黎巴嫩']"
   ]
  },
  {
   "cell_type": "code",
   "execution_count": 31,
   "metadata": {
    "collapsed": true
   },
   "outputs": [],
   "source": [
    "def column_expand(data, column, list_values_us, list_values_cn):\n",
    "    index = 0\n",
    "    for cl in list_values_us:\n",
    "        tt = data[column].apply(lambda x: str(x)).str.contains('\\W'+cl+'\\W')\n",
    "        uu = data[column].apply(lambda x: str(x)).str.contains('^'+cl+'$')\n",
    "        ee = data[column].apply(lambda x: str(x)).str.contains(cl+'\\s')\n",
    "        ff = data[column].apply(lambda x: str(x)).str.contains('\\s'+cl)\n",
    "        cl_ = tt | uu| ee | ff\n",
    "        cl_ *= 1\n",
    "        data['%s_%s' %(column ,list_values_cn[index])] = cl_\n",
    "        index += 1\n",
    "\n",
    "def get_values_list(data, column, sep=None):\n",
    "    Language_values=[]\n",
    "    def countLANG(Languages):\n",
    "        for language in Languages:\n",
    "            language = language.strip()\n",
    "            if language in Language_values: \n",
    "                continue\n",
    "            else:\n",
    "                Language_values.append(language)\n",
    "    if sep:\n",
    "        pd.DataFrame(data[column].str.split(sep))[column].apply(countLANG);\n",
    "    else:\n",
    "        data[column].apply(countLANG);\n",
    "    return Language_values\n",
    "\n",
    "def Paiming(data, column, list_values_us, list_values_cn):\n",
    "    column_expand(data, column, list_values_us,list_values_cn )\n",
    "    df = pd.DataFrame( \n",
    "        {'数目':[data['%s_%s' %(column, p)].sum() for p in list_values_cn]}\n",
    "        , index=list_values_cn).sort_values('数目', ascending=False)\n",
    "    return df"
   ]
  },
  {
   "cell_type": "code",
   "execution_count": 32,
   "metadata": {},
   "outputs": [],
   "source": [
    "#df1.country1.drop_duplicates().to_list()"
   ]
  },
  {
   "cell_type": "code",
   "execution_count": 38,
   "metadata": {},
   "outputs": [],
   "source": [
    "#Paiming(df1, 'country1', country_movie_us, country_movie_cn).to_csv('data/imdb电影国家分类.csv', encoding = 'utf_8_sig')"
   ]
  },
  {
   "cell_type": "code",
   "execution_count": 39,
   "metadata": {
    "collapsed": true
   },
   "outputs": [],
   "source": [
    "Paiming(df1, 'tag', class_movie_us, class_movie_cn).to_csv('data/imdb类型分类.csv', encoding = 'utf_8_sig')"
   ]
  },
  {
   "cell_type": "code",
   "execution_count": null,
   "metadata": {
    "collapsed": true
   },
   "outputs": [],
   "source": []
  }
 ],
 "metadata": {
  "kernelspec": {
   "display_name": "Python 3.6.2 64-bit ('Python3': conda)",
   "language": "python",
   "name": "python36264bitpython3conda22a802917d40484cb74cad32db3b0b05"
  },
  "language_info": {
   "codemirror_mode": {
    "name": "ipython",
    "version": 3
   },
   "file_extension": ".py",
   "mimetype": "text/x-python",
   "name": "python",
   "nbconvert_exporter": "python",
   "pygments_lexer": "ipython3",
   "version": "3.6.2"
  }
 },
 "nbformat": 4,
 "nbformat_minor": 2
}
