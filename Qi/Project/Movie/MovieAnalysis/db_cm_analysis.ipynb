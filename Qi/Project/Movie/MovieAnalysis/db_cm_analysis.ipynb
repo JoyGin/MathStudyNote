{
 "cells": [
  {
   "cell_type": "code",
   "execution_count": 4,
   "metadata": {},
   "outputs": [],
   "source": [
    "# %load test.py\n",
    "import json\n",
    "import requests\n",
    "from util.preprocess import preprocess\n",
    "from util.model import TxtModel\n",
    "import torch.nn.functional as F\n",
    "import torch\n",
    "import random\n",
    "import jieba\n",
    "from sklearn.feature_extraction.text import TfidfVectorizer\n",
    "import pickle\n",
    "device = torch.device(\"cuda\" if torch.cuda.is_available() else \"cpu\")\n",
    "\n",
    "#headers = {'User-Agent':'Mozilla/5.0 (Windows NT 6.3; WOW64) AppleWebKit/537.36 (KHTML, like Gecko) Chrome/63.0.3239.132 Safari/537.36'}\n",
    "\n",
    "\n",
    "# 26266893 为国产科幻佳作《流浪地球》，在此以《流浪地球》的影评为例\n",
    "#res = requests.get('https://api.douban.com/v2/movie/subject/26266893/comments?apikey=0df993c66c0c636e29ecbb5344252a4a', headers = headers)\n",
    "#print(res)\n",
    "#comments = json.loads(res.content.decode('utf-8'))['comments']\n",
    "#print(comments)\n",
    "\n",
    "def predict_comments(comments):\n",
    "\n",
    "     # 加载停用词\n",
    "    with open('data/stopwords.txt', encoding='utf-8') as f:\n",
    "        stopwords = [line.strip('\\n') for line in f.readlines()]\n",
    "\n",
    "    test_comment = random.choice(comments)\n",
    "\n",
    "    pre = preprocess()\n",
    "\n",
    "    # 选择其中一条分类，并去除非中文字符\n",
    "    content = pre.clean_str(test_comment['content'])\n",
    "\n",
    "    rating = test_comment['rating']['value']\n",
    "\n",
    "    # 对评论分词\n",
    "    seg_list = jieba.cut(content, cut_all=False, HMM=True)\n",
    "\n",
    "    # 去掉停用词和无意义的\n",
    "    cut_content = ' '.join([x.strip('\\n')\n",
    "                        for x in seg_list if x not in stopwords and len(x) > 1])\n",
    "\n",
    "    n_dim = 20000\n",
    "\n",
    "    vectorizer = pickle.load(open('data/vectorizer.pickle', 'rb'))\n",
    "\n",
    "    # 转化为特征向量\n",
    "    one_test_data = vectorizer.transform([cut_content])\n",
    "\n",
    "    # 转化为 pytorch 输入的 Tensor 数据，squeeze(0) 增加一个 batch 维度\n",
    "    one_test_data = torch.from_numpy(one_test_data.toarray()).unsqueeze(0)\n",
    "\n",
    "    model = TxtModel(n_dim,2).double()\n",
    "    model.to(device)\n",
    "    model.load_state_dict(torch.load(\"checkpoints/moviePointEpoch3i144.pth\"))\n",
    "\n",
    "    #  使用准确度最好的模型预测，softmax 处理输出概率，取得最大概率的下标再加 1 则为预测的标签\n",
    "    pred = torch.argmax(F.softmax(model(one_test_data.to(device)), dim=1)) + 1\n",
    "    if rating<3:\n",
    "        rat='差评1'\n",
    "    else:\n",
    "        rat='好评2'\n",
    "    print('评论内容: ',content)\n",
    "    #print('关键字: ',cut_content)\n",
    "    print('观众评价: ',rat)\n",
    "    print('预测评价: ',pred)\n"
   ]
  },
  {
   "cell_type": "code",
   "execution_count": 5,
   "metadata": {
    "collapsed": true
   },
   "outputs": [],
   "source": [
    "import pandas as pd\n",
    "import numpy  as np"
   ]
  },
  {
   "cell_type": "code",
   "execution_count": 6,
   "metadata": {},
   "outputs": [
    {
     "name": "stdout",
     "output_type": "stream",
     "text": [
      "获取的总短评数： 249560\n"
     ]
    }
   ],
   "source": [
    "# 短评数据\n",
    "movie_comment_file = ['data/case_data/movie_comment%s.json' %j for j in [ i for i in range(20,220,20)] +[225,250]]\n",
    "com = []\n",
    "for f in movie_comment_file:\n",
    "    lines = open(f, 'rb').readlines()\n",
    "    com.extend([json.loads(elem.decode(\"utf-8\")) for elem in lines])\n",
    "data_com = pd.DataFrame(com)\n",
    "data_com['movie_id'] = data_com['movie_id'].apply(lambda x: int(x[0][5:]))\n",
    "data_com['content'] = data_com.content.apply(lambda x: x[0].strip())\n",
    "data_com['people'] = data_com.people.apply(lambda x: x.strip())\n",
    "data_com['people'] = data_com.people_url.apply(lambda x: x[30:-1])\n",
    "data_com['useful_num'] = data_com.useful_num.apply(lambda x: int(x))\n",
    "def regular_nonstar(x):\n",
    "    if x == 'comment-time':\n",
    "        return 'allstar00 rating'\n",
    "    else:\n",
    "        return x\n",
    "data_com['star'] = data_com.star.apply(regular_nonstar).apply(lambda x: int(x[7]))\n",
    "data_com['time'] = pd.to_datetime(data_com.time.apply(lambda x: x[0]))\n",
    "print('获取的总短评数：' ,data_com.shape[0])"
   ]
  },
  {
   "cell_type": "code",
   "execution_count": 7,
   "metadata": {},
   "outputs": [
    {
     "name": "stdout",
     "output_type": "stream",
     "text": [
      "去重后的总短评数： 249512\n"
     ]
    }
   ],
   "source": [
    "data_com = data_com[~data_com.comment_id.duplicated()]\n",
    "print('去重后的总短评数：' ,data_com.shape[0])"
   ]
  },
  {
   "cell_type": "code",
   "execution_count": null,
   "metadata": {
    "collapsed": true
   },
   "outputs": [],
   "source": []
  }
 ],
 "metadata": {
  "kernelspec": {
   "display_name": "Python 3.6.2 64-bit ('Python3': conda)",
   "language": "python",
   "name": "python36264bitpython3conda22a802917d40484cb74cad32db3b0b05"
  },
  "language_info": {
   "codemirror_mode": {
    "name": "ipython",
    "version": 3
   },
   "file_extension": ".py",
   "mimetype": "text/x-python",
   "name": "python",
   "nbconvert_exporter": "python",
   "pygments_lexer": "ipython3",
   "version": "3.6.2"
  }
 },
 "nbformat": 4,
 "nbformat_minor": 2
}
