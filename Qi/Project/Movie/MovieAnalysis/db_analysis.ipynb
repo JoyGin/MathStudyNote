{
 "cells": [
  {
   "cell_type": "code",
   "execution_count": 1,
   "metadata": {
    "collapsed": true
   },
   "outputs": [],
   "source": [
    "import numpy as np"
   ]
  },
  {
   "cell_type": "code",
   "execution_count": 2,
   "metadata": {
    "collapsed": true
   },
   "outputs": [],
   "source": [
    "import pandas as pd"
   ]
  },
  {
   "cell_type": "code",
   "execution_count": 3,
   "metadata": {},
   "outputs": [
    {
     "name": "stdout",
     "output_type": "stream",
     "text": [
      "电影数目： 246\n"
     ]
    }
   ],
   "source": [
    "# 载入电影数据\n",
    "data_item = pd.read_json('data/case_data/movie_item.json', lines=True)\n",
    "print('电影数目：' ,data_item.shape[0])\n"
   ]
  },
  {
   "cell_type": "code",
   "execution_count": 4,
   "metadata": {
    "collapsed": true
   },
   "outputs": [],
   "source": [
    "data_item['movie_id'] = data_item['movie_id'].apply(lambda x: int(x[0][3:]))  \n",
    "# [电影-1300267] -> int(1300267)\n",
    "data_item['comment_num'] = data_item['comment_num'].apply(lambda x: int(x[2:-1]))  \n",
    "# 全部 62309 条 -> int(62309)\n",
    "data_item['question_num'] = data_item['question_num'].apply(lambda x: int(x[2:-1]))  \n",
    "# 全部23个 -> int(23)\n",
    "data_item['rating_num'] = data_item['rating_num'].apply(lambda x: float(x[0]))   \n",
    "# [9.2] -> float(9.2)\n",
    "data_item['rating_per_stars1'] = data_item['rating_per_stars1'].apply(lambda x: float(x[:-1]))   \n",
    "# 0.1% -> float(0.1)\n",
    "data_item['rating_per_stars2'] = data_item['rating_per_stars2'].apply(lambda x: float(x[:-1]))  \n",
    "data_item['rating_per_stars3'] = data_item['rating_per_stars3'].apply(lambda x: float(x[:-1]))  \n",
    "data_item['rating_per_stars4'] = data_item['rating_per_stars4'].apply(lambda x: float(x[:-1]))  \n",
    "data_item['rating_per_stars5'] = data_item['rating_per_stars5'].apply(lambda x: float(x[:-1]))\n",
    "data_item['release_date'] = data_item['release_date'].apply(lambda x: int(x[0][1:-1]))  \n",
    "# [(1939)] -> int(1939)\n",
    "data_item['vote_num'] = data_item['vote_num'].apply(lambda x: int(x[0]))   \n",
    "# [272357] -> int(272357)\n",
    "data_item['movie_title'] = data_item['movie_title'].apply(lambda x: (x[0]))\n",
    "\n",
    "# [238分钟] -> 238\n",
    "data_item.loc[15,'runtime'] = ['80分钟']\n",
    "# 处理电影时长\n",
    "pattern = '\\d+'\n",
    "import re\n",
    "data_item['runtime'] = data_item['runtime'].apply(lambda x: (x[0]))\n",
    "data_item['runtime'] = data_item['runtime'].str.findall(pattern,flags=re.IGNORECASE).apply(lambda x: int(x[0]))\n",
    "\n",
    "#处理电影简介\n",
    "def Intro(introduces):\n",
    "    Intro_ = ''\n",
    "    for intro in introduces:\n",
    "        intro = intro.strip()\n",
    "        Intro_ += intro\n",
    "    return Intro_\n"
   ]
  },
  {
   "cell_type": "code",
   "execution_count": 5,
   "metadata": {
    "collapsed": true
   },
   "outputs": [],
   "source": [
    "data_item['intro'] = data_item.intro.apply(Intro)"
   ]
  },
  {
   "cell_type": "code",
   "execution_count": 6,
   "metadata": {},
   "outputs": [
    {
     "data": {
      "text/plain": [
       "0      美国南北战争前夕，南方农场塔拉庄园的千金斯嘉丽（费雯·丽 Vivien Leigh 饰）爱上...\n",
       "1      1991年，香港黑帮三合会会员刘健明（刘德华）听从老大韩琛（曾志伟）的吩咐，加入警察部队成为...\n",
       "2      克里斯•加纳（威尔·史密斯 Will Smith 饰）用尽全部积蓄买下了高科技治疗仪，到处向...\n",
       "3      这是一个破碎的家庭，酗酒的教练父亲帕迪（尼克·诺特 Nick Nolte 饰）家暴妻子，次子...\n",
       "4      初中生小水相貌平平，家境一般，所以在学校里并不受重视。但是她心地善良，又有一群死党，日子过得...\n",
       "                             ...                        \n",
       "241    宦官专权的明朝中叶，东厂曹少钦（甄子丹）假造圣旨杀害了忠良杨宇轩，并想斩草除根杀死其后代。侠...\n",
       "242    他是一个流浪汉（查理·卓别林 Charles Chaplin 饰），身无分文，遇上了双目失明...\n",
       "243    20世纪40年代末，小有成就的青年银行家安迪（蒂姆·罗宾斯 Tim Robbins 饰）因涉...\n",
       "244    孙悟空（周星驰）护送唐三藏（罗家英）去西天取经路上，与牛魔王合谋欲杀害唐三藏，并偷走了月光宝...\n",
       "245    阿利斯（马尔科姆•麦克道尔）是一位无恶不作的少年，他的特殊喜好是边听贝多芬的交响曲边奸淫女性...\n",
       "Name: intro, Length: 246, dtype: object"
      ]
     },
     "execution_count": 6,
     "metadata": {},
     "output_type": "execute_result"
    }
   ],
   "source": [
    "data_item['intro']"
   ]
  },
  {
   "cell_type": "code",
   "execution_count": 7,
   "metadata": {},
   "outputs": [
    {
     "name": "stdout",
     "output_type": "stream",
     "text": [
      "<class 'pandas.core.frame.DataFrame'>\n",
      "RangeIndex: 246 entries, 0 to 245\n",
      "Data columns (total 19 columns):\n",
      " #   Column             Non-Null Count  Dtype  \n",
      "---  ------             --------------  -----  \n",
      " 0   country            246 non-null    object \n",
      " 1   intro              246 non-null    object \n",
      " 2   vote_num           246 non-null    int64  \n",
      " 3   movie_title        246 non-null    object \n",
      " 4   starring           246 non-null    object \n",
      " 5   comment_num        246 non-null    int64  \n",
      " 6   rating_per_stars4  246 non-null    float64\n",
      " 7   language           246 non-null    object \n",
      " 8   directedBy         246 non-null    object \n",
      " 9   movie_id           246 non-null    int64  \n",
      " 10  runtime            246 non-null    int64  \n",
      " 11  rating_per_stars3  246 non-null    float64\n",
      " 12  release_date       246 non-null    int64  \n",
      " 13  rating_per_stars2  246 non-null    float64\n",
      " 14  rating_per_stars5  246 non-null    float64\n",
      " 15  rating_num         246 non-null    float64\n",
      " 16  genre              246 non-null    object \n",
      " 17  rating_per_stars1  246 non-null    float64\n",
      " 18  question_num       246 non-null    int64  \n",
      "dtypes: float64(6), int64(6), object(7)\n",
      "memory usage: 36.6+ KB\n"
     ]
    }
   ],
   "source": [
    "data_item.info()"
   ]
  },
  {
   "cell_type": "code",
   "execution_count": 8,
   "metadata": {},
   "outputs": [
    {
     "data": {
      "text/html": [
       "<div>\n",
       "<style scoped>\n",
       "    .dataframe tbody tr th:only-of-type {\n",
       "        vertical-align: middle;\n",
       "    }\n",
       "\n",
       "    .dataframe tbody tr th {\n",
       "        vertical-align: top;\n",
       "    }\n",
       "\n",
       "    .dataframe thead th {\n",
       "        text-align: right;\n",
       "    }\n",
       "</style>\n",
       "<table border=\"1\" class=\"dataframe\">\n",
       "  <thead>\n",
       "    <tr style=\"text-align: right;\">\n",
       "      <th></th>\n",
       "      <th>movie_title</th>\n",
       "      <th>rating_num</th>\n",
       "    </tr>\n",
       "  </thead>\n",
       "  <tbody>\n",
       "    <tr>\n",
       "      <th>243</th>\n",
       "      <td>肖申克的救赎 The Shawshank Redemption</td>\n",
       "      <td>9.6</td>\n",
       "    </tr>\n",
       "    <tr>\n",
       "      <th>236</th>\n",
       "      <td>控方证人 Witness for the Prosecution</td>\n",
       "      <td>9.6</td>\n",
       "    </tr>\n",
       "    <tr>\n",
       "      <th>102</th>\n",
       "      <td>美丽人生 La vita è bella</td>\n",
       "      <td>9.5</td>\n",
       "    </tr>\n",
       "    <tr>\n",
       "      <th>98</th>\n",
       "      <td>霸王别姬</td>\n",
       "      <td>9.5</td>\n",
       "    </tr>\n",
       "    <tr>\n",
       "      <th>107</th>\n",
       "      <td>十二怒汉 12 Angry Men</td>\n",
       "      <td>9.4</td>\n",
       "    </tr>\n",
       "    <tr>\n",
       "      <th>103</th>\n",
       "      <td>阿甘正传 Forrest Gump</td>\n",
       "      <td>9.4</td>\n",
       "    </tr>\n",
       "    <tr>\n",
       "      <th>101</th>\n",
       "      <td>这个杀手不太冷 Léon</td>\n",
       "      <td>9.4</td>\n",
       "    </tr>\n",
       "    <tr>\n",
       "      <th>100</th>\n",
       "      <td>辛德勒的名单 Schindler's List</td>\n",
       "      <td>9.4</td>\n",
       "    </tr>\n",
       "    <tr>\n",
       "      <th>108</th>\n",
       "      <td>机器人总动员 WALL·E</td>\n",
       "      <td>9.3</td>\n",
       "    </tr>\n",
       "    <tr>\n",
       "      <th>120</th>\n",
       "      <td>海豚湾 The Cove</td>\n",
       "      <td>9.3</td>\n",
       "    </tr>\n",
       "  </tbody>\n",
       "</table>\n",
       "</div>"
      ],
      "text/plain": [
       "                          movie_title  rating_num\n",
       "243   肖申克的救赎 The Shawshank Redemption         9.6\n",
       "236  控方证人 Witness for the Prosecution         9.6\n",
       "102              美丽人生 La vita è bella         9.5\n",
       "98                               霸王别姬         9.5\n",
       "107                 十二怒汉 12 Angry Men         9.4\n",
       "103                 阿甘正传 Forrest Gump         9.4\n",
       "101                      这个杀手不太冷 Léon         9.4\n",
       "100           辛德勒的名单 Schindler's List         9.4\n",
       "108                     机器人总动员 WALL·E         9.3\n",
       "120                      海豚湾 The Cove         9.3"
      ]
     },
     "execution_count": 8,
     "metadata": {},
     "output_type": "execute_result"
    }
   ],
   "source": [
    "data_item.sort_values('rating_num', ascending=False)[['movie_title','rating_num']].head(10)"
   ]
  },
  {
   "cell_type": "code",
   "execution_count": 9,
   "metadata": {
    "collapsed": true
   },
   "outputs": [],
   "source": [
    "class_movie = ['剧情','爱情','喜剧','科幻','动作','悬疑','犯罪','恐怖','青春'\n",
    "               ,'励志','战争','文艺','黑色幽默','传记','情色','暴力','音乐','家庭']\n",
    "country_movie = ['大陆','美国','香港','台湾','日本','韩国','英国','法国','德国'\n",
    "                 ,'意大利','西班牙','印度','泰国','俄罗斯','伊朗','加拿大','澳大利亚'\n",
    "                 ,'爱尔兰','瑞典','巴西','丹麦']\n",
    "\n",
    "def column_expand(data, column, list_values):\n",
    "    for cl in list_values:\n",
    "        tt = data_item[column].apply(lambda x: str(x)).str.contains('\\W'+cl+'\\W')\n",
    "        uu = data_item[column].apply(lambda x: str(x)).str.contains('^'+cl+'$')\n",
    "        ee = data_item[column].apply(lambda x: str(x)).str.contains(cl+'\\s')\n",
    "        ff = data_item[column].apply(lambda x: str(x)).str.contains('\\s'+cl)\n",
    "        cl_ = tt | uu| ee | ff\n",
    "        cl_ *= 1\n",
    "        data['%s_%s' %(column ,cl)] = cl_\n",
    "\n",
    "def get_values_list(data, column, sep=None):\n",
    "    Language_values=[]\n",
    "    def countLANG(Languages):\n",
    "        for language in Languages:\n",
    "            language = language.strip()\n",
    "            if language in Language_values: \n",
    "                continue\n",
    "            else:\n",
    "                Language_values.append(language)\n",
    "    if sep:\n",
    "        pd.DataFrame(data[column].str.split(sep))[column].apply(countLANG);\n",
    "    else:\n",
    "        data[column].apply(countLANG);\n",
    "    return Language_values\n",
    "\n",
    "def Paiming(data, column, list_values):\n",
    "    column_expand(data, column, list_values)\n",
    "    df = pd.DataFrame( \n",
    "        {'数目':[data['%s_%s' %(column, p)].sum() for p in list_values]}\n",
    "        , index=list_values).sort_values('数目', ascending=False)\n",
    "    return df\n",
    "# 列表匹配\n",
    "#column_expand(data_item, 'genre', class_movie)\n",
    "#column_expand(data_item,  'country', country_movie)\n",
    "#column_expand(data_item,  'language', get_values_list(data_item, 'language', sep='/'))\n",
    "#column_expand(data_item,  'starring', get_values_list(data_item, 'starring'))"
   ]
  },
  {
   "cell_type": "code",
   "execution_count": null,
   "metadata": {
    "collapsed": true
   },
   "outputs": [],
   "source": []
  }
 ],
 "metadata": {
  "kernelspec": {
   "display_name": "Python 3.6.2 64-bit ('Python3': conda)",
   "language": "python",
   "name": "python36264bitpython3conda22a802917d40484cb74cad32db3b0b05"
  },
  "language_info": {
   "codemirror_mode": {
    "name": "ipython",
    "version": 3
   },
   "file_extension": ".py",
   "mimetype": "text/x-python",
   "name": "python",
   "nbconvert_exporter": "python",
   "pygments_lexer": "ipython3",
   "version": "3.6.2"
  }
 },
 "nbformat": 4,
 "nbformat_minor": 2
}
